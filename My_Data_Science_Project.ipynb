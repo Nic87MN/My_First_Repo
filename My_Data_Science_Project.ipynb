{
 "cells": [
  {
   "cell_type": "markdown",
   "id": "6eae161e-488b-48ba-ba44-82aa36e07a29",
   "metadata": {},
   "source": [
    "# My Data Science Project"
   ]
  },
  {
   "cell_type": "markdown",
   "id": "26eacba4-c767-4514-8098-83aa9deeb1a7",
   "metadata": {},
   "source": [
    "## This notebook explores various data science tools and demonstrates some simple code examples. The concepts covered were learned through the Tools for Data Science course offered by IBM."
   ]
  },
  {
   "cell_type": "markdown",
   "id": "de4b7cad-a7d7-4395-998f-b95852b84464",
   "metadata": {},
   "source": [
    "### The main languages for data science are :\n",
    "* **Python**: \n",
    "* **R**: \n",
    "* **SQL**: \n",
    "* **Julia**: \n",
    "* **Scala**: "
   ]
  },
  {
   "cell_type": "markdown",
   "id": "5aea9a78-bec0-42a0-9a91-32cd3c4e0666",
   "metadata": {},
   "source": [
    "### Data Science Libraries and Packages\n",
    "---\n",
    "#### Python Libraries\n",
    "\n",
    "* **Pandas**: Essential for data manipulation and analysis.\n",
    "* **NumPy**: Fundamental for numerical computing with arrays.\n",
    "* **Matplotlib**: Foundational library for creating static data visualizations.\n",
    "* **Seaborn**: A high-level interface for creating attractive statistical visualizations.\n",
    "* **Scikit-learn**: A comprehensive library for machine learning tasks.\n",
    "* **TensorFlow & PyTorch**: Leading frameworks for deep learning.\n",
    "---\n",
    "#### R Libraries\n",
    "* **Tidyverse**: A collection of packages for a consistent data science workflow, including:\n",
    "    * dplyr: For data manipulation.\n",
    "    * ggplot2: For data visualization.\n",
    "    * tidyr: For tidying and reshaping data.\n",
    "* **caret**: A package for training and evaluating machine learning models.\n",
    "* **mlr3**: A modern framework for machine learning.\n",
    "* **shiny**: For creating interactive web applications and dashboards.\n",
    "* **knitr & rmarkdown**: For generating reproducible reports.\n"
   ]
  },
  {
   "cell_type": "markdown",
   "id": "f30656b4-433a-4072-8f1f-270da0873dd3",
   "metadata": {},
   "source": [
    "### A Table of Data Science Tools\n",
    "\n",
    "| Category | Tool | Description |\n",
    "| :--- | :--- | :--- |\n",
    "| **Programming Languages** | Python | Versatile and popular for data analysis, machine learning, and automation. |\n",
    "| | R | A language designed specifically for statistical computing and graphics. |\n",
    "| **Integrated Development Environments** | Jupyter Notebook | An interactive environment that combines code, text, and visualizations. |\n",
    "| | RStudio | The primary IDE for R, providing a user-friendly interface for analysis. |\n",
    "| | Colab | An interactive environment that combines code, text, and visualizations but onCloud. |\n",
    "| **Databases** | MySQL | A widely-used open-source relational database management system. |\n",
    "| | MongoDB | A popular NoSQL database for handling unstructured data. |\n",
    "| **Version Control** | Git | A system for tracking changes in code and coordinating work among developers. |"
   ]
  },
  {
   "cell_type": "markdown",
   "id": "056231ce-cc8c-439e-bb40-496da6a35f0a",
   "metadata": {},
   "source": [
    "### Below, we will demonstrate an example of an arithmetic expression learned in this course"
   ]
  },
  {
   "cell_type": "code",
   "execution_count": 3,
   "id": "290137a5-a0de-4501-9dac-818e6b82ee0a",
   "metadata": {},
   "outputs": [
    {
     "data": {
      "text/plain": [
       "8"
      ]
     },
     "execution_count": 3,
     "metadata": {},
     "output_type": "execute_result"
    }
   ],
   "source": [
    "3+5"
   ]
  },
  {
   "cell_type": "code",
   "execution_count": 4,
   "id": "d5cdcd18-8811-431d-aa1a-c07de1add893",
   "metadata": {},
   "outputs": [
    {
     "data": {
      "text/plain": [
       "2"
      ]
     },
     "execution_count": 4,
     "metadata": {},
     "output_type": "execute_result"
    }
   ],
   "source": [
    "10-8"
   ]
  },
  {
   "cell_type": "code",
   "execution_count": 5,
   "id": "2e611e0b-4665-482a-8374-5695c4472673",
   "metadata": {},
   "outputs": [],
   "source": [
    "x=8"
   ]
  },
  {
   "cell_type": "code",
   "execution_count": 6,
   "id": "1fce3613-23b4-4429-be7b-9763120ec56f",
   "metadata": {},
   "outputs": [],
   "source": [
    "y=2"
   ]
  },
  {
   "cell_type": "code",
   "execution_count": 9,
   "id": "c52a8028-6178-415e-a7f3-6c72e427ee1a",
   "metadata": {},
   "outputs": [
    {
     "name": "stdout",
     "output_type": "stream",
     "text": [
      "16\n"
     ]
    }
   ],
   "source": [
    "print(x*y)"
   ]
  },
  {
   "cell_type": "markdown",
   "id": "4f9643af-5e35-4449-90ff-d0aa01df46f0",
   "metadata": {},
   "source": [
    "### Below, we will convert minutes in hours"
   ]
  },
  {
   "cell_type": "code",
   "execution_count": 22,
   "id": "eafab92e-8baf-4a03-9a94-bd77b02af138",
   "metadata": {},
   "outputs": [],
   "source": [
    "hour=1\n",
    "minutes= 60"
   ]
  },
  {
   "cell_type": "code",
   "execution_count": 23,
   "id": "3af6c5d1-fbc7-4dd4-90c4-a1a7300f0301",
   "metadata": {},
   "outputs": [
    {
     "name": "stdout",
     "output_type": "stream",
     "text": [
      "1 hours is euqual to 60 minutes\n"
     ]
    }
   ],
   "source": [
    "print(f'{hour} hours is euqual to {minutes} minutes')"
   ]
  },
  {
   "cell_type": "markdown",
   "id": "08026804-6a71-4854-8a39-1c0105eb2fec",
   "metadata": {},
   "source": [
    "### Notebook Objectives\n",
    "---\n",
    "\n",
    "#### 1. Introduce Core Data Science Tools\n",
    "The notebook aims to introduce and categorize essential data science tools. It lists popular **programming languages** like Python and R, as well as crucial **Integrated Development Environments (IDEs)** such as Jupyter Notebook and RStudio. It also touches on databases and version control systems, providing a foundational overview of the data science ecosystem.\n",
    "\n",
    "#### 2. Showcase Key Libraries and Packages\n",
    "A primary goal is to detail the most important libraries for popular languages. For **Python**, it highlights tools for data manipulation (**Pandas**), numerical computing (**NumPy**), visualization (**Matplotlib**), and machine learning (**Scikit-learn**). Similarly, for **R**, it introduces the **Tidyverse** for data handling and **shiny** for building interactive applications. This demonstrates the software components that data scientists use to perform their tasks.\n",
    "\n",
    "#### 3. Demonstrate Basic Coding and Expressions\n",
    "The notebook uses simple code examples to illustrate fundamental programming concepts. The arithmetic expressions and variable assignments are included to show how code is executed and how a Jupyter Notebook's output is displayed. This provides a practical, hands-on demonstration of coding basics.\n",
    "\n",
    "#### 4. Illustrate Jupyter Notebook Functionality\n",
    "By combining Markdown cells (for text and tables) with code cells (for executable Python code), the notebook itself serves as an example of how to use a Jupyter Notebook effectively. It shows how to structure a project, document findings, and present results in a clear and reproducible format, which is a key skill for any data scientist."
   ]
  },
  {
   "cell_type": "markdown",
   "id": "825126ac-3dff-4ef4-95ac-6d57af491ae2",
   "metadata": {},
   "source": [
    "### Nicola Borroni"
   ]
  }
 ],
 "metadata": {
  "kernelspec": {
   "display_name": "Python 3 (ipykernel)",
   "language": "python",
   "name": "python3"
  },
  "language_info": {
   "codemirror_mode": {
    "name": "ipython",
    "version": 3
   },
   "file_extension": ".py",
   "mimetype": "text/x-python",
   "name": "python",
   "nbconvert_exporter": "python",
   "pygments_lexer": "ipython3",
   "version": "3.12.8"
  }
 },
 "nbformat": 4,
 "nbformat_minor": 5
}
